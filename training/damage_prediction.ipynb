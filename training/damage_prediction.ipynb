{
 "cells": [
  {
   "cell_type": "markdown",
   "id": "769a3117-b5de-430a-bf7f-beb05d7b5361",
   "metadata": {},
   "source": [
    "### Import Libraries"
   ]
  },
  {
   "cell_type": "code",
   "execution_count": 1,
   "id": "92f42eaa-f80d-4219-83a4-2f80a916f6ad",
   "metadata": {},
   "outputs": [],
   "source": [
    "\n",
    "import os\n",
    "from torchvision import datasets, transforms\n",
    "from torch.utils.data import DataLoader\n",
    "import torch\n",
    "import torch.nn as nn\n",
    "import torch.optim as optim\n",
    "import torch.nn.functional as F\n",
    "import time\n",
    "import torchvision.models as models\n",
    "from matplotlib import pyplot as plt"
   ]
  },
  {
   "cell_type": "markdown",
   "id": "4d6d9a86-ba76-4e47-829e-e50739731ffa",
   "metadata": {},
   "source": [
    "### Load Data"
   ]
  },
  {
   "cell_type": "code",
   "execution_count": 2,
   "id": "1986bea8-c239-4644-ba5a-a875a279486c",
   "metadata": {},
   "outputs": [],
   "source": [
    "image_transforms = transforms.Compose([\n",
    "    transforms.RandomHorizontalFlip(),\n",
    "    transforms.RandomRotation(10),\n",
    "    transforms.ColorJitter(brightness=0.2,contrast=0.2),\n",
    "    transforms.Resize((224,224)),\n",
    "    transforms.ToTensor(),\n",
    "    transforms.Normalize(mean=[0.485, 0.456, 0.406],std=[0.229, 0.224, 0.225])\n",
    "])"
   ]
  },
  {
   "cell_type": "code",
   "execution_count": 3,
   "id": "9dde1234-46ba-42d3-a8b7-8853a4936280",
   "metadata": {},
   "outputs": [
    {
     "data": {
      "text/plain": [
       "2300"
      ]
     },
     "execution_count": 3,
     "metadata": {},
     "output_type": "execute_result"
    }
   ],
   "source": [
    "dataset_path = r\"C:\\Users\\darsh\\OneDrive\\Desktop\\Car Damage Detection\\training\\dataset\"\n",
    "\n",
    "dataset = datasets.ImageFolder(root= dataset_path,transform=image_transforms)\n",
    "len(dataset)"
   ]
  },
  {
   "cell_type": "code",
   "execution_count": 4,
   "id": "a5816c10-112f-4354-bf3f-a44043c756c8",
   "metadata": {},
   "outputs": [
    {
     "data": {
      "text/plain": [
       "['F_Breakage', 'F_Crushed', 'F_Normal', 'R_Breakage', 'R_Crushed', 'R_Normal']"
      ]
     },
     "execution_count": 4,
     "metadata": {},
     "output_type": "execute_result"
    }
   ],
   "source": [
    "dataset.classes"
   ]
  },
  {
   "cell_type": "code",
   "execution_count": 21,
   "id": "8ebe2326-9f54-4b81-80e7-ce37a8d47e31",
   "metadata": {},
   "outputs": [
    {
     "data": {
      "text/plain": [
       "['F_Breakage', 'F_Crushed', 'F_Normal', 'R_Breakage', 'R_Crushed', 'R_Normal']"
      ]
     },
     "execution_count": 21,
     "metadata": {},
     "output_type": "execute_result"
    }
   ],
   "source": [
    "class_names = dataset.classes\n",
    "class_names "
   ]
  },
  {
   "cell_type": "code",
   "execution_count": 5,
   "id": "245f8a6f-d337-43e9-aeaf-e79c0ab6f001",
   "metadata": {},
   "outputs": [
    {
     "data": {
      "text/plain": [
       "6"
      ]
     },
     "execution_count": 5,
     "metadata": {},
     "output_type": "execute_result"
    }
   ],
   "source": [
    "num_classes = len(dataset.classes)\n",
    "num_classes"
   ]
  },
  {
   "cell_type": "code",
   "execution_count": 6,
   "id": "bc10615a-c3ad-4b3a-b19b-37ca1b0be465",
   "metadata": {},
   "outputs": [
    {
     "data": {
      "text/plain": [
       "(1725, 575)"
      ]
     },
     "execution_count": 6,
     "metadata": {},
     "output_type": "execute_result"
    }
   ],
   "source": [
    "train_size = int(0.75 * len(dataset))\n",
    "val_size = len(dataset) - train_size\n",
    "\n",
    "train_size,val_size"
   ]
  },
  {
   "cell_type": "code",
   "execution_count": 7,
   "id": "d7de38eb-c4ee-4ccc-b6ed-7617c302eeb9",
   "metadata": {},
   "outputs": [],
   "source": [
    "from torch.utils.data import random_split\n",
    "\n",
    "train_dataset, val_dataset = random_split(dataset, [train_size, val_size])"
   ]
  },
  {
   "cell_type": "code",
   "execution_count": 8,
   "id": "d6286b54-9b54-46ca-8112-582cfda372a4",
   "metadata": {},
   "outputs": [],
   "source": [
    "train_loader = DataLoader(train_dataset,batch_size=32,shuffle=True)\n",
    "val_loader = DataLoader(val_dataset,batch_size=32,shuffle=True)"
   ]
  },
  {
   "cell_type": "code",
   "execution_count": 9,
   "id": "09e76ab4-7bd0-4b1b-84d7-ddad674c91c4",
   "metadata": {},
   "outputs": [
    {
     "name": "stdout",
     "output_type": "stream",
     "text": [
      "torch.Size([32, 3, 224, 224])\n",
      "torch.Size([32])\n"
     ]
    }
   ],
   "source": [
    "for images, labels in train_loader:\n",
    "    print(images.shape)\n",
    "    print(labels.shape)\n",
    "    break"
   ]
  },
  {
   "cell_type": "code",
   "execution_count": 10,
   "id": "5f2c84ce-0a49-410a-befa-071b1fc51295",
   "metadata": {},
   "outputs": [
    {
     "data": {
      "text/plain": [
       "torch.Size([3, 224, 224])"
      ]
     },
     "execution_count": 10,
     "metadata": {},
     "output_type": "execute_result"
    }
   ],
   "source": [
    "images[1].shape"
   ]
  },
  {
   "cell_type": "code",
   "execution_count": 11,
   "id": "41b4e770-878a-4aa3-ad32-49dc50b04e7c",
   "metadata": {},
   "outputs": [
    {
     "data": {
      "text/plain": [
       "tensor(1)"
      ]
     },
     "execution_count": 11,
     "metadata": {},
     "output_type": "execute_result"
    }
   ],
   "source": [
    "labels[1]"
   ]
  },
  {
   "cell_type": "code",
   "execution_count": 12,
   "id": "09134060-a476-4bc9-bc99-022c142c1115",
   "metadata": {},
   "outputs": [
    {
     "data": {
      "text/plain": [
       "torch.Size([224, 224, 3])"
      ]
     },
     "execution_count": 12,
     "metadata": {},
     "output_type": "execute_result"
    }
   ],
   "source": [
    "images[1].permute(1,2,0).shape"
   ]
  },
  {
   "cell_type": "code",
   "execution_count": 13,
   "id": "e346d8f9-16dd-45fb-85fc-bda2b862b907",
   "metadata": {},
   "outputs": [
    {
     "name": "stderr",
     "output_type": "stream",
     "text": [
      "Clipping input data to the valid range for imshow with RGB data ([0..1] for floats or [0..255] for integers). Got range [-2.117904..2.64].\n"
     ]
    },
    {
     "data": {
      "text/plain": [
       "<matplotlib.image.AxesImage at 0x1fdeb087f10>"
      ]
     },
     "execution_count": 13,
     "metadata": {},
     "output_type": "execute_result"
    },
    {
     "data": {
      "image/png": "[encoded data removed]",
      "text/plain": [
       "<Figure size 640x480 with 1 Axes>"
      ]
     },
     "metadata": {},
     "output_type": "display_data"
    }
   ],
   "source": [
    "plt.imshow(images[1].permute(1,2,0))"
   ]
  },
  {
   "cell_type": "markdown",
   "id": "b20605f6-87ef-4d00-8843-4f69ea0d85ab",
   "metadata": {},
   "source": [
    "### Model 1: CNN"
   ]
  },
  {
   "cell_type": "code",
   "execution_count": 15,
   "id": "913ad351-d1ce-455a-bc1d-c78647907eb0",
   "metadata": {},
   "outputs": [],
   "source": [
    "class CarClassifierCNN(nn.Module):\n",
    "    def __init__(self,num_classes):\n",
    "        super().__init__()\n",
    "        self.network = nn.Sequential(\n",
    "            nn.Conv2d(in_channels=3,out_channels=16,kernel_size=3,stride=1,padding=1), # in(3,224,224)  out(16,224,224\n",
    "            nn.ReLU(),\n",
    "            nn.MaxPool2d(kernel_size=2,stride=2,padding=0), # out(16,112,112)\n",
    "            \n",
    "            nn.Conv2d(in_channels=16,out_channels=32,kernel_size=3,stride=1,padding=1), # in(16,112,112)  out(32,112,112\n",
    "            nn.ReLU(),\n",
    "            nn.MaxPool2d(kernel_size=2,stride=2,padding=0), # out(32,56,56)\n",
    "\n",
    "            nn.Conv2d(in_channels=32,out_channels=64,kernel_size=3,stride=1,padding=1), # in(32,112,112)  out(64,112,112\n",
    "            nn.ReLU(),\n",
    "            nn.MaxPool2d(kernel_size=2,stride=2,padding=0), # out(64,28,28)\n",
    "\n",
    "            nn.Flatten(),\n",
    "\n",
    "            nn.Linear(64*28*28,512),\n",
    "            nn.ReLU(),\n",
    "            nn.Linear(512,num_classes)\n",
    "            \n",
    "        )\n",
    "    def forward(self,x):\n",
    "        x = self.network(x)\n",
    "        return x\n",
    "    "
   ]
  },
  {
   "cell_type": "code",
   "execution_count": 62,
   "id": "29c30e48-bea3-4f85-8382-9f0fdfa44fe6",
   "metadata": {},
   "outputs": [],
   "source": [
    "# Model Initialization, Optimizer & Loss Function\n",
    "\n",
    "model = CarClassifierCNN(num_classes=num_classes)\n",
    "criterion = nn.CrossEntropyLoss()\n",
    "optimizer = optim.Adam(model.parameters(),lr=0.001)\n"
   ]
  },
  {
   "cell_type": "code",
   "execution_count": 16,
   "id": "2314cc4f-be05-4fdf-a502-35576c992766",
   "metadata": {},
   "outputs": [],
   "source": [
    "def train_model(model,criterion,optimizer,epochs=5):\n",
    "    start = time.time()\n",
    "\n",
    "    for epoch in range(epochs):\n",
    "        model.train()\n",
    "        running_loss = 0.0\n",
    "        for batch_num,(images,labels) in enumerate(train_loader):\n",
    "\n",
    "            # zero the parameter gradients\n",
    "            optimizer.zero_grad()\n",
    "\n",
    "            # forward pass\n",
    "            outputs = model(images)\n",
    "            loss = criterion(outputs,labels)\n",
    "\n",
    "            # backward pass & optimization\n",
    "            loss.backward()\n",
    "            optimizer.step() # update weights\n",
    "\n",
    "            if (batch_num + 1) % 10 == 0:\n",
    "                print(f\"Batch: {batch_num +1},Epoch :{epoch+1}, Loss:{loss.item():0.2f}\")\n",
    "            \n",
    "            running_loss += loss.item() * images.size(0)\n",
    "\n",
    "        epoch_loss = running_loss / len(train_loader.dataset)\n",
    "        print(f\"Epoch [{epoch +1}/{epochs}], Avg Loss:{epoch_loss:.4f}\")\n",
    "\n",
    "        # Validation\n",
    "        model.eval()\n",
    "        correct=0\n",
    "        total=0\n",
    "        all_labels = []\n",
    "        all_predictions = []\n",
    "\n",
    "        with torch.no_grad():\n",
    "            for images,labels  in val_loader:\n",
    "                outputs = model(images)\n",
    "                _, predicted = torch.max(outputs.data,1)\n",
    "                total += labels.size(0)\n",
    "                correct += (predicted == labels).sum().item()\n",
    "                all_labels.extend(labels)\n",
    "                all_predictions.extend(predicted)\n",
    "\n",
    "            print(f\"*** Validation Accuracy:{100 * correct /total:.2f}%***\")\n",
    "    end = time.time()\n",
    "    print(f\"Execution time: {end - start} seconds\")\n",
    "\n",
    "    return all_labels, all_predictions\n",
    "            "
   ]
  },
  {
   "cell_type": "code",
   "execution_count": null,
   "id": "0ba35c43-3fd9-415c-beeb-8371c1c540e3",
   "metadata": {},
   "outputs": [
    {
     "name": "stdout",
     "output_type": "stream",
     "text": [
      "Batch: 10,Epoch :1, Loss:0.34\n",
      "Batch: 20,Epoch :1, Loss:0.17\n",
      "Batch: 30,Epoch :1, Loss:0.03\n",
      "Batch: 40,Epoch :1, Loss:0.06\n",
      "Batch: 50,Epoch :1, Loss:0.18\n",
      "Epoch [1/10], Avg Loss:0.1104\n",
      "*** Validation Accuracy:82.61%***\n",
      "Batch: 10,Epoch :2, Loss:0.27\n",
      "Batch: 20,Epoch :2, Loss:0.05\n",
      "Batch: 30,Epoch :2, Loss:2.42\n",
      "Batch: 40,Epoch :2, Loss:0.09\n",
      "Batch: 50,Epoch :2, Loss:0.27\n",
      "Epoch [2/10], Avg Loss:0.2023\n"
     ]
    }
   ],
   "source": [
    "all_labels, all_predictions = train_model(model, criterion, optimizer, epochs=10)"
   ]
  },
  {
   "cell_type": "markdown",
   "id": "97f32f7c-bd5d-4dbe-ad9f-44d21e8ec6a5",
   "metadata": {},
   "source": [
    "### Model 2: CNN with Regularization"
   ]
  },
  {
   "cell_type": "code",
   "execution_count": 24,
   "id": "4af2205f-2cd3-4730-a8c1-e50ab0a39627",
   "metadata": {},
   "outputs": [],
   "source": [
    "class CarClassifierCNNWithRegularization(nn.Module):\n",
    "    def __init__(self, num_classes):\n",
    "        super().__init__()\n",
    "        self.network = nn.Sequential(  \n",
    "            nn.Conv2d(in_channels=3, out_channels=16, kernel_size=3, stride=1, padding=1), # (16, 224, 224) \n",
    "            nn.BatchNorm2d(16),\n",
    "            nn.ReLU(),\n",
    "            nn.MaxPool2d(kernel_size=2, stride=2, padding=0), # (16, 112, 112),\n",
    "            \n",
    "            nn.Conv2d(in_channels=16, out_channels=32, kernel_size=3, stride=1, padding=1), \n",
    "            nn.BatchNorm2d(32),\n",
    "            nn.ReLU(),\n",
    "            nn.MaxPool2d(kernel_size=2, stride=2, padding=0), # (32, 56, 56)  \n",
    "            \n",
    "            nn.Conv2d(in_channels=32, out_channels=64, kernel_size=3, stride=1, padding=1), \n",
    "            nn.BatchNorm2d(64),\n",
    "            nn.ReLU(),\n",
    "            nn.MaxPool2d(kernel_size=2, stride=2, padding=0), # (64, 28, 28),\n",
    "            \n",
    "            nn.Flatten(),\n",
    "            \n",
    "            nn.Linear(64*28*28, 512),\n",
    "            nn.ReLU(),\n",
    "            nn.Dropout(0.5),\n",
    "            nn.Linear(512, num_classes)\n",
    "        )\n",
    "        \n",
    "    def forward(self, x):\n",
    "        x = self.network(x)\n",
    "        return x"
   ]
  },
  {
   "cell_type": "code",
   "execution_count": 25,
   "id": "f701f9fa-c183-4031-a238-524b20cce227",
   "metadata": {},
   "outputs": [],
   "source": [
    "# Model Initialization, Optimizer & Loss Function\n",
    "\n",
    "model = CarClassifierCNNWithRegularization(num_classes=num_classes)\n",
    "criterion = nn.CrossEntropyLoss()\n",
    "optimizer = optim.Adam(model.parameters(),lr=0.001,weight_decay = 1e-4) # weight_decay = 0.0001\n",
    "\n"
   ]
  },
  {
   "cell_type": "code",
   "execution_count": 26,
   "id": "1517dfe1-4e79-4120-a113-cfe9339af4fb",
   "metadata": {},
   "outputs": [
    {
     "name": "stdout",
     "output_type": "stream",
     "text": [
      "Batch: 10,Epoch :1, Loss:20.95\n",
      "Batch: 20,Epoch :1, Loss:6.77\n",
      "Batch: 30,Epoch :1, Loss:2.60\n",
      "Batch: 40,Epoch :1, Loss:1.63\n",
      "Batch: 50,Epoch :1, Loss:1.53\n",
      "Epoch [1/10], Avg Loss:8.1970\n",
      "*** Validation Accuracy:38.43%***\n",
      "Batch: 10,Epoch :2, Loss:1.28\n",
      "Batch: 20,Epoch :2, Loss:1.70\n",
      "Batch: 30,Epoch :2, Loss:1.67\n",
      "Batch: 40,Epoch :2, Loss:1.51\n",
      "Batch: 50,Epoch :2, Loss:1.47\n",
      "Epoch [2/10], Avg Loss:1.4687\n",
      "*** Validation Accuracy:46.26%***\n",
      "Batch: 10,Epoch :3, Loss:1.29\n",
      "Batch: 20,Epoch :3, Loss:1.58\n",
      "Batch: 30,Epoch :3, Loss:1.55\n",
      "Batch: 40,Epoch :3, Loss:1.26\n",
      "Batch: 50,Epoch :3, Loss:1.09\n",
      "Epoch [3/10], Avg Loss:1.3860\n",
      "*** Validation Accuracy:47.83%***\n",
      "Batch: 10,Epoch :4, Loss:1.12\n",
      "Batch: 20,Epoch :4, Loss:1.27\n",
      "Batch: 30,Epoch :4, Loss:1.50\n",
      "Batch: 40,Epoch :4, Loss:1.96\n",
      "Batch: 50,Epoch :4, Loss:1.52\n",
      "Epoch [4/10], Avg Loss:1.3287\n",
      "*** Validation Accuracy:44.87%***\n",
      "Batch: 10,Epoch :5, Loss:1.25\n",
      "Batch: 20,Epoch :5, Loss:1.29\n",
      "Batch: 30,Epoch :5, Loss:1.36\n",
      "Batch: 40,Epoch :5, Loss:1.30\n",
      "Batch: 50,Epoch :5, Loss:1.21\n",
      "Epoch [5/10], Avg Loss:1.2743\n",
      "*** Validation Accuracy:52.00%***\n",
      "Batch: 10,Epoch :6, Loss:1.23\n",
      "Batch: 20,Epoch :6, Loss:1.44\n",
      "Batch: 30,Epoch :6, Loss:1.27\n",
      "Batch: 40,Epoch :6, Loss:0.85\n",
      "Batch: 50,Epoch :6, Loss:1.04\n",
      "Epoch [6/10], Avg Loss:1.2335\n",
      "*** Validation Accuracy:51.13%***\n",
      "Batch: 10,Epoch :7, Loss:1.29\n",
      "Batch: 20,Epoch :7, Loss:1.06\n",
      "Batch: 30,Epoch :7, Loss:1.03\n",
      "Batch: 40,Epoch :7, Loss:1.27\n",
      "Batch: 50,Epoch :7, Loss:1.08\n",
      "Epoch [7/10], Avg Loss:1.1787\n",
      "*** Validation Accuracy:52.87%***\n",
      "Batch: 10,Epoch :8, Loss:0.92\n",
      "Batch: 20,Epoch :8, Loss:1.16\n",
      "Batch: 30,Epoch :8, Loss:1.01\n",
      "Batch: 40,Epoch :8, Loss:1.19\n",
      "Batch: 50,Epoch :8, Loss:0.95\n",
      "Epoch [8/10], Avg Loss:1.1786\n",
      "*** Validation Accuracy:49.39%***\n",
      "Batch: 10,Epoch :9, Loss:0.91\n",
      "Batch: 20,Epoch :9, Loss:1.37\n",
      "Batch: 30,Epoch :9, Loss:1.19\n",
      "Batch: 40,Epoch :9, Loss:1.09\n",
      "Batch: 50,Epoch :9, Loss:1.36\n",
      "Epoch [9/10], Avg Loss:1.1253\n",
      "*** Validation Accuracy:53.04%***\n",
      "Batch: 10,Epoch :10, Loss:1.20\n",
      "Batch: 20,Epoch :10, Loss:1.36\n",
      "Batch: 30,Epoch :10, Loss:1.21\n",
      "Batch: 40,Epoch :10, Loss:1.31\n",
      "Batch: 50,Epoch :10, Loss:0.84\n",
      "Epoch [10/10], Avg Loss:1.1550\n",
      "*** Validation Accuracy:52.87%***\n",
      "Execution time: 4138.556415557861 seconds\n"
     ]
    }
   ],
   "source": [
    "all_labels, all_predictions = train_model(model, criterion, optimizer, epochs=10)"
   ]
  },
  {
   "cell_type": "code",
   "execution_count": null,
   "id": "8ceefade-ec05-4843-8342-14c8867c1fd0",
   "metadata": {},
   "outputs": [],
   "source": []
  },
  {
   "cell_type": "markdown",
   "id": "7a8a02b1-2be9-444f-a09c-afc4616cfc45",
   "metadata": {},
   "source": [
    "### Model 3: Transfer Learning with EfficientNet"
   ]
  },
  {
   "cell_type": "code",
   "execution_count": 27,
   "id": "484b62fc-462a-4b4b-93ef-f5033bd47b61",
   "metadata": {},
   "outputs": [],
   "source": [
    "class CarClassifierEfficientNet(nn.Module):\n",
    "    def __init__(self,num_classes):\n",
    "        super().__init__()\n",
    "        self.model = models.efficientnet_b0(weights='DEFAULT')\n",
    "\n",
    "        for param in self.model.parameters(): # Freeze the upper layer\n",
    "            param.requires_grad = False\n",
    "        \n",
    "        in_features = self.model.classifier[1].in_features\n",
    "        \n",
    "        self.model.classifier = nn.Sequential(\n",
    "            nn.Dropout(0.5),\n",
    "            nn.Linear(in_features,num_classes)\n",
    "        )\n",
    "    def forward(self,x):\n",
    "        x = self.model(x)\n",
    "        return x\n",
    "        "
   ]
  },
  {
   "cell_type": "code",
   "execution_count": 28,
   "id": "42b9983c-26dc-4355-8d37-2bc798fa3f41",
   "metadata": {},
   "outputs": [
    {
     "name": "stdout",
     "output_type": "stream",
     "text": [
      "Downloading: \"https://download.pytorch.org/models/efficientnet_b0_rwightman-7f5810bc.pth\" to C:\\Users\\darsh/.cache\\torch\\hub\\checkpoints\\efficientnet_b0_rwightman-7f5810bc.pth\n"
     ]
    },
    {
     "name": "stderr",
     "output_type": "stream",
     "text": [
      "100%|█████████████████████████████████████████████████████████████████████████████| 20.5M/20.5M [00:02<00:00, 8.12MB/s]\n"
     ]
    },
    {
     "name": "stdout",
     "output_type": "stream",
     "text": [
      "Batch: 10,Epoch :1, Loss:1.70\n",
      "Batch: 20,Epoch :1, Loss:1.58\n",
      "Batch: 30,Epoch :1, Loss:1.47\n",
      "Batch: 40,Epoch :1, Loss:1.32\n",
      "Batch: 50,Epoch :1, Loss:1.35\n",
      "Epoch [1/10], Avg Loss:1.4770\n",
      "*** Validation Accuracy:58.78%***\n",
      "Batch: 10,Epoch :2, Loss:1.19\n",
      "Batch: 20,Epoch :2, Loss:1.22\n",
      "Batch: 30,Epoch :2, Loss:1.12\n",
      "Batch: 40,Epoch :2, Loss:1.04\n",
      "Batch: 50,Epoch :2, Loss:1.14\n",
      "Epoch [2/10], Avg Loss:1.1498\n",
      "*** Validation Accuracy:63.30%***\n",
      "Batch: 10,Epoch :3, Loss:0.99\n",
      "Batch: 20,Epoch :3, Loss:0.92\n",
      "Batch: 30,Epoch :3, Loss:1.17\n",
      "Batch: 40,Epoch :3, Loss:0.85\n",
      "Batch: 50,Epoch :3, Loss:1.05\n",
      "Epoch [3/10], Avg Loss:1.0252\n",
      "*** Validation Accuracy:66.96%***\n",
      "Batch: 10,Epoch :4, Loss:1.27\n",
      "Batch: 20,Epoch :4, Loss:0.89\n",
      "Batch: 30,Epoch :4, Loss:0.91\n",
      "Batch: 40,Epoch :4, Loss:1.03\n",
      "Batch: 50,Epoch :4, Loss:0.85\n",
      "Epoch [4/10], Avg Loss:0.9612\n",
      "*** Validation Accuracy:65.57%***\n",
      "Batch: 10,Epoch :5, Loss:1.06\n",
      "Batch: 20,Epoch :5, Loss:1.02\n",
      "Batch: 30,Epoch :5, Loss:0.93\n",
      "Batch: 40,Epoch :5, Loss:0.79\n",
      "Batch: 50,Epoch :5, Loss:0.89\n",
      "Epoch [5/10], Avg Loss:0.9073\n",
      "*** Validation Accuracy:66.78%***\n",
      "Batch: 10,Epoch :6, Loss:0.78\n",
      "Batch: 20,Epoch :6, Loss:1.03\n",
      "Batch: 30,Epoch :6, Loss:0.89\n",
      "Batch: 40,Epoch :6, Loss:0.91\n",
      "Batch: 50,Epoch :6, Loss:0.95\n",
      "Epoch [6/10], Avg Loss:0.8707\n",
      "*** Validation Accuracy:68.87%***\n",
      "Batch: 10,Epoch :7, Loss:0.72\n",
      "Batch: 20,Epoch :7, Loss:0.99\n",
      "Batch: 30,Epoch :7, Loss:0.95\n",
      "Batch: 40,Epoch :7, Loss:0.87\n",
      "Batch: 50,Epoch :7, Loss:0.80\n",
      "Epoch [7/10], Avg Loss:0.8480\n",
      "*** Validation Accuracy:67.30%***\n",
      "Batch: 10,Epoch :8, Loss:0.86\n",
      "Batch: 20,Epoch :8, Loss:0.98\n",
      "Batch: 30,Epoch :8, Loss:0.80\n",
      "Batch: 40,Epoch :8, Loss:0.95\n",
      "Batch: 50,Epoch :8, Loss:0.76\n",
      "Epoch [8/10], Avg Loss:0.8343\n",
      "*** Validation Accuracy:68.35%***\n",
      "Batch: 10,Epoch :9, Loss:0.87\n",
      "Batch: 20,Epoch :9, Loss:0.80\n",
      "Batch: 30,Epoch :9, Loss:0.75\n",
      "Batch: 40,Epoch :9, Loss:0.95\n",
      "Batch: 50,Epoch :9, Loss:0.66\n",
      "Epoch [9/10], Avg Loss:0.8158\n",
      "*** Validation Accuracy:67.13%***\n",
      "Batch: 10,Epoch :10, Loss:1.22\n",
      "Batch: 20,Epoch :10, Loss:0.85\n",
      "Batch: 30,Epoch :10, Loss:0.62\n",
      "Batch: 40,Epoch :10, Loss:1.10\n",
      "Batch: 50,Epoch :10, Loss:0.81\n",
      "Epoch [10/10], Avg Loss:0.8217\n",
      "*** Validation Accuracy:70.09%***\n",
      "Execution time: 1422.5729494094849 seconds\n"
     ]
    }
   ],
   "source": [
    "# Model Initialization, Optimizer & Loss Function\n",
    "\n",
    "model = CarClassifierEfficientNet(num_classes=num_classes)\n",
    "criterion = nn.CrossEntropyLoss()\n",
    "optimizer = optim.Adam(filter(lambda p: p.requires_grad,model.parameters()),lr=0.001) \n",
    "\n",
    "all_labels, all_predictions = train_model(model, criterion, optimizer, epochs=10)"
   ]
  },
  {
   "cell_type": "markdown",
   "id": "959c0e3f-eecf-4678-8d79-008ec2f3e2c9",
   "metadata": {},
   "source": [
    "### Model 4: Trasfer Learning with ResNet "
   ]
  },
  {
   "cell_type": "code",
   "execution_count": 14,
   "id": "1c63422e-7566-491d-ab18-2d0587cf72f8",
   "metadata": {},
   "outputs": [],
   "source": [
    "class CarClassifierResNet(nn.Module):\n",
    "    def __init__(self,num_classes,dropout_rate=0.5):\n",
    "        super().__init__()\n",
    "        self.model = models.resnet50(weights='DEFAULT')\n",
    "\n",
    "        # Freeze all layers except the final fully connected layer\n",
    "        for param in self.model.parameters():\n",
    "            param.requires_grad = False\n",
    "\n",
    "        # Unfreeze layer4 and fc layers\n",
    "        for param in self.model.layer4.parameters():\n",
    "            param.requires_grad = True\n",
    "\n",
    "        # Replace the final fully connected layer \n",
    "        self.model.fc = nn.Sequential(\n",
    "            nn.Dropout(dropout_rate),\n",
    "            nn.Linear(self.model.fc.in_features,num_classes)\n",
    "        )\n",
    "    def forward(self,x):\n",
    "        x = self.model(x)\n",
    "        return x\n",
    "        "
   ]
  },
  {
   "cell_type": "code",
   "execution_count": 17,
   "id": "b8c6c358-346b-4fd0-a59c-f660cacc6b1a",
   "metadata": {},
   "outputs": [
    {
     "name": "stdout",
     "output_type": "stream",
     "text": [
      "Batch: 10,Epoch :1, Loss:0.99\n",
      "Batch: 20,Epoch :1, Loss:0.81\n",
      "Batch: 30,Epoch :1, Loss:0.96\n",
      "Batch: 40,Epoch :1, Loss:0.94\n",
      "Batch: 50,Epoch :1, Loss:0.90\n",
      "Epoch [1/10], Avg Loss:0.9148\n",
      "*** Validation Accuracy:70.09%***\n",
      "Batch: 10,Epoch :2, Loss:0.50\n",
      "Batch: 20,Epoch :2, Loss:0.44\n",
      "Batch: 30,Epoch :2, Loss:0.41\n",
      "Batch: 40,Epoch :2, Loss:0.43\n",
      "Batch: 50,Epoch :2, Loss:0.54\n",
      "Epoch [2/10], Avg Loss:0.5025\n",
      "*** Validation Accuracy:81.04%***\n",
      "Batch: 10,Epoch :3, Loss:0.58\n",
      "Batch: 20,Epoch :3, Loss:0.31\n",
      "Batch: 30,Epoch :3, Loss:0.25\n",
      "Batch: 40,Epoch :3, Loss:0.29\n",
      "Batch: 50,Epoch :3, Loss:0.62\n",
      "Epoch [3/10], Avg Loss:0.3687\n",
      "*** Validation Accuracy:78.09%***\n",
      "Batch: 10,Epoch :4, Loss:0.49\n",
      "Batch: 20,Epoch :4, Loss:0.41\n",
      "Batch: 30,Epoch :4, Loss:0.16\n",
      "Batch: 40,Epoch :4, Loss:0.26\n",
      "Batch: 50,Epoch :4, Loss:0.12\n",
      "Epoch [4/10], Avg Loss:0.2847\n",
      "*** Validation Accuracy:79.13%***\n",
      "Batch: 10,Epoch :5, Loss:0.15\n",
      "Batch: 20,Epoch :5, Loss:0.15\n",
      "Batch: 30,Epoch :5, Loss:0.34\n",
      "Batch: 40,Epoch :5, Loss:0.20\n",
      "Batch: 50,Epoch :5, Loss:0.11\n",
      "Epoch [5/10], Avg Loss:0.2062\n",
      "*** Validation Accuracy:80.70%***\n",
      "Batch: 10,Epoch :6, Loss:0.16\n",
      "Batch: 20,Epoch :6, Loss:0.30\n",
      "Batch: 30,Epoch :6, Loss:0.13\n",
      "Batch: 40,Epoch :6, Loss:0.13\n",
      "Batch: 50,Epoch :6, Loss:0.11\n",
      "Epoch [6/10], Avg Loss:0.1562\n",
      "*** Validation Accuracy:82.96%***\n",
      "Batch: 10,Epoch :7, Loss:0.10\n",
      "Batch: 20,Epoch :7, Loss:0.13\n",
      "Batch: 30,Epoch :7, Loss:0.13\n",
      "Batch: 40,Epoch :7, Loss:0.12\n",
      "Batch: 50,Epoch :7, Loss:0.11\n",
      "Epoch [7/10], Avg Loss:0.1300\n",
      "*** Validation Accuracy:77.74%***\n",
      "Batch: 10,Epoch :8, Loss:0.04\n",
      "Batch: 20,Epoch :8, Loss:0.02\n",
      "Batch: 30,Epoch :8, Loss:0.35\n",
      "Batch: 40,Epoch :8, Loss:0.09\n",
      "Batch: 50,Epoch :8, Loss:0.13\n",
      "Epoch [8/10], Avg Loss:0.1168\n",
      "*** Validation Accuracy:81.22%***\n",
      "Batch: 10,Epoch :9, Loss:0.02\n",
      "Batch: 20,Epoch :9, Loss:0.26\n",
      "Batch: 30,Epoch :9, Loss:0.04\n",
      "Batch: 40,Epoch :9, Loss:0.10\n",
      "Batch: 50,Epoch :9, Loss:0.33\n",
      "Epoch [9/10], Avg Loss:0.0931\n",
      "*** Validation Accuracy:83.30%***\n",
      "Batch: 10,Epoch :10, Loss:0.03\n",
      "Batch: 20,Epoch :10, Loss:0.07\n",
      "Batch: 30,Epoch :10, Loss:0.03\n",
      "Batch: 40,Epoch :10, Loss:0.02\n",
      "Batch: 50,Epoch :10, Loss:0.08\n",
      "Epoch [10/10], Avg Loss:0.0998\n",
      "*** Validation Accuracy:83.13%***\n",
      "Execution time: 3311.2855632305145 seconds\n"
     ]
    }
   ],
   "source": [
    "model = CarClassifierResNet(num_classes=num_classes)\n",
    "criterion = nn.CrossEntropyLoss()\n",
    "optimizer = optim.Adam(filter(lambda p:p.requires_grad,model.parameters()),lr=0.001)\n",
    "\n",
    "labels, predictions = train_model(model,criterion,optimizer,epochs=10)"
   ]
  },
  {
   "cell_type": "markdown",
   "id": "090cd1e4-9e38-4ef7-a329-9645e4bd7559",
   "metadata": {},
   "source": [
    "#### With HyperParameter Tuning, the best parameter for resnet models are (1) Dropout rate = 0.2 (2) Learning Rate = 0.005\n",
    "\n",
    "#### now let's train the model once again with these best parameters "
   ]
  },
  {
   "cell_type": "code",
   "execution_count": 18,
   "id": "1e8bc304-0366-442e-b5fa-acd9cf856574",
   "metadata": {},
   "outputs": [
    {
     "name": "stdout",
     "output_type": "stream",
     "text": [
      "Batch: 10,Epoch :1, Loss:0.80\n",
      "Batch: 20,Epoch :1, Loss:1.13\n",
      "Batch: 30,Epoch :1, Loss:0.62\n",
      "Batch: 40,Epoch :1, Loss:0.75\n",
      "Batch: 50,Epoch :1, Loss:0.43\n",
      "Epoch [1/10], Avg Loss:0.8869\n",
      "*** Validation Accuracy:76.17%***\n",
      "Batch: 10,Epoch :2, Loss:0.38\n",
      "Batch: 20,Epoch :2, Loss:0.57\n",
      "Batch: 30,Epoch :2, Loss:0.49\n",
      "Batch: 40,Epoch :2, Loss:0.67\n",
      "Batch: 50,Epoch :2, Loss:0.50\n",
      "Epoch [2/10], Avg Loss:0.5230\n",
      "*** Validation Accuracy:77.91%***\n",
      "Batch: 10,Epoch :3, Loss:0.56\n",
      "Batch: 20,Epoch :3, Loss:0.39\n",
      "Batch: 30,Epoch :3, Loss:0.41\n",
      "Batch: 40,Epoch :3, Loss:0.41\n",
      "Batch: 50,Epoch :3, Loss:0.21\n",
      "Epoch [3/10], Avg Loss:0.3649\n",
      "*** Validation Accuracy:76.87%***\n",
      "Batch: 10,Epoch :4, Loss:0.21\n",
      "Batch: 20,Epoch :4, Loss:0.30\n",
      "Batch: 30,Epoch :4, Loss:0.08\n",
      "Batch: 40,Epoch :4, Loss:0.10\n",
      "Batch: 50,Epoch :4, Loss:0.21\n",
      "Epoch [4/10], Avg Loss:0.2720\n",
      "*** Validation Accuracy:77.22%***\n",
      "Batch: 10,Epoch :5, Loss:0.18\n",
      "Batch: 20,Epoch :5, Loss:0.13\n",
      "Batch: 30,Epoch :5, Loss:0.27\n",
      "Batch: 40,Epoch :5, Loss:0.21\n",
      "Batch: 50,Epoch :5, Loss:0.16\n",
      "Epoch [5/10], Avg Loss:0.2243\n",
      "*** Validation Accuracy:78.78%***\n",
      "Batch: 10,Epoch :6, Loss:0.11\n",
      "Batch: 20,Epoch :6, Loss:0.07\n",
      "Batch: 30,Epoch :6, Loss:0.17\n",
      "Batch: 40,Epoch :6, Loss:0.10\n",
      "Batch: 50,Epoch :6, Loss:0.08\n",
      "Epoch [6/10], Avg Loss:0.1640\n",
      "*** Validation Accuracy:82.26%***\n",
      "Batch: 10,Epoch :7, Loss:0.13\n",
      "Batch: 20,Epoch :7, Loss:0.08\n",
      "Batch: 30,Epoch :7, Loss:0.07\n",
      "Batch: 40,Epoch :7, Loss:0.03\n",
      "Batch: 50,Epoch :7, Loss:0.58\n",
      "Epoch [7/10], Avg Loss:0.1743\n",
      "*** Validation Accuracy:80.87%***\n",
      "Batch: 10,Epoch :8, Loss:0.17\n",
      "Batch: 20,Epoch :8, Loss:0.17\n",
      "Batch: 30,Epoch :8, Loss:0.14\n",
      "Batch: 40,Epoch :8, Loss:0.12\n",
      "Batch: 50,Epoch :8, Loss:0.15\n",
      "Epoch [8/10], Avg Loss:0.1670\n",
      "*** Validation Accuracy:80.35%***\n",
      "Batch: 10,Epoch :9, Loss:0.02\n",
      "Batch: 20,Epoch :9, Loss:0.17\n",
      "Batch: 30,Epoch :9, Loss:0.05\n",
      "Batch: 40,Epoch :9, Loss:0.03\n",
      "Batch: 50,Epoch :9, Loss:0.19\n",
      "Epoch [9/10], Avg Loss:0.1017\n",
      "*** Validation Accuracy:82.09%***\n",
      "Batch: 10,Epoch :10, Loss:0.16\n",
      "Batch: 20,Epoch :10, Loss:0.25\n",
      "Batch: 30,Epoch :10, Loss:0.16\n",
      "Batch: 40,Epoch :10, Loss:0.06\n",
      "Batch: 50,Epoch :10, Loss:0.04\n",
      "Epoch [10/10], Avg Loss:0.0938\n",
      "*** Validation Accuracy:78.96%***\n",
      "Execution time: 3801.712120294571 seconds\n"
     ]
    }
   ],
   "source": [
    "model = CarClassifierResNet(num_classes = num_classes,dropout_rate = 0.2)\n",
    "criterion = nn.CrossEntropyLoss()\n",
    "optimizer = optim.Adam(filter(lambda p: p.requires_grad, model.parameters()),lr=0.005)\n",
    "\n",
    "labels, predictions = train_model(model,criterion,optimizer,epochs=10)"
   ]
  },
  {
   "cell_type": "markdown",
   "id": "37713ac1-705f-4a47-976c-cfb460a36b37",
   "metadata": {},
   "source": [
    "## Model Evaluation using Confusion Matrix and classification Report"
   ]
  },
  {
   "cell_type": "code",
   "execution_count": 19,
   "id": "093e399f-4a85-48f2-8bb7-8bb2545e28e9",
   "metadata": {},
   "outputs": [
    {
     "name": "stdout",
     "output_type": "stream",
     "text": [
      "              precision    recall  f1-score   support\n",
      "\n",
      "           0       0.93      0.76      0.84       114\n",
      "           1       0.74      0.81      0.77        95\n",
      "           2       0.87      0.95      0.91       132\n",
      "           3       0.90      0.58      0.71        79\n",
      "           4       0.63      0.63      0.63        79\n",
      "           5       0.67      0.91      0.77        76\n",
      "\n",
      "    accuracy                           0.79       575\n",
      "   macro avg       0.79      0.77      0.77       575\n",
      "weighted avg       0.80      0.79      0.79       575\n",
      "\n"
     ]
    }
   ],
   "source": [
    "from sklearn.metrics import classification_report\n",
    "\n",
    "report = classification_report(labels,predictions)\n",
    "print(report)"
   ]
  },
  {
   "cell_type": "code",
   "execution_count": 22,
   "id": "6cdd1bee-53c6-4ec4-9127-976a7f15f12c",
   "metadata": {},
   "outputs": [
    {
     "data": {
      "image/png": "[encoded data removed]",
      "text/plain": [
       "<Figure size 640x480 with 2 Axes>"
      ]
     },
     "metadata": {},
     "output_type": "display_data"
    }
   ],
   "source": [
    "import numpy as np\n",
    "from sklearn.metrics import confusion_matrix, ConfusionMatrixDisplay\n",
    "from matplotlib import pyplot as plt\n",
    "\n",
    "conf_matrix = confusion_matrix(labels,predictions,labels=np.arange(num_classes))\n",
    "disp = ConfusionMatrixDisplay(confusion_matrix=conf_matrix,display_labels=class_names)\n",
    "disp.plot(cmap=plt.cm.Blues, xticks_rotation=45)\n",
    "plt.title(\"Confusion Matrix for Vehicle Damage Classification\")\n",
    "plt.show()"
   ]
  },
  {
   "cell_type": "markdown",
   "id": "456487f8-43e6-4db4-9bd8-77c266a0d2f7",
   "metadata": {},
   "source": [
    "### Save the Model"
   ]
  },
  {
   "cell_type": "code",
   "execution_count": 23,
   "id": "1b4d36ed-349e-4234-8699-297e1e5223b4",
   "metadata": {},
   "outputs": [],
   "source": [
    "torch.save(model.state_dict(), 'saved_model.pth')"
   ]
  }
 ],
 "metadata": {
  "kernelspec": {
   "display_name": "Python 3 (ipykernel)",
   "language": "python",
   "name": "python3"
  },
  "language_info": {
   "codemirror_mode": {
    "name": "ipython",
    "version": 3
   },
   "file_extension": ".py",
   "mimetype": "text/x-python",
   "name": "python",
   "nbconvert_exporter": "python",
   "pygments_lexer": "ipython3",
   "version": "3.10.16"
  }
 },
 "nbformat": 4,
 "nbformat_minor": 5
}
